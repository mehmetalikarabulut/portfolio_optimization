{
 "cells": [
  {
   "cell_type": "code",
   "execution_count": 1,
   "id": "6ae3461b",
   "metadata": {},
   "outputs": [],
   "source": [
    "import numpy as np\n",
    "import pandas as pd\n",
    "import random"
   ]
  },
  {
   "cell_type": "code",
   "execution_count": 2,
   "id": "17e55685",
   "metadata": {},
   "outputs": [],
   "source": [
    "#I generated the 10 year returns of each portfolio with the Excel random command and transferred them here\n",
    "portfolio = pd.DataFrame({\n",
    "    'portfolio_1': [25.915, 90.213, 73.348, 86.472, 76.200, 51.769, 1.167, 21.757, 86.623, 85.086],\n",
    "    'portfolio_2': [2.949, 18.454, 53.429, 15.703, 2.616, 90.652, 99.806, 29.038, 67.363, 20.271],\n",
    "    'portfolio_3': [22.833, 14.626, 52.186, 94.246, 37.746, 17.669, 36.907, 12.743, 41.365, 17.889],\n",
    "    'portfolio_4': [11.269, 13.251, 77.212, 65.737, 61.734, 34.124, 81.882, 62.953, 47.438, 50.267],\n",
    "    'portfolio_5': [15.677, 77.657, 21.312, 60.018, 42.298, 28.707, 76.971, 75.151, 32.829, 91.109],\n",
    "    'portfolio_6': [64.649, 8.785, 23.110, 56.119, 42.516, 78.036, 34.271, 2.770, 57.132, 38.033],\n",
    "    'portfolio_7': [77.046, 7.073, 55.480, 97.200, 69.907, 85.795, 59.286, 69.337, 76.132, 12.592],\n",
    "    'portfolio_8': [98.075, 39.892, 88.964, 11.372, 86.094, 50.372, 22.095, 69.741, 63.067, 76.965],\n",
    "    'portfolio_9': [33.160, 65.868, 52.664, 33.063, 86.711, 57.002, 76.621, 6.051, 6.295, 61.768],\n",
    "    'portfolio_10': [28.119, 9.977, 7.249, 86.480, 68.357, 41.433, 33.387, 99.062, 20.280, 29.413]\n",
    "})"
   ]
  },
  {
   "cell_type": "code",
   "execution_count": 3,
   "id": "5cb9c442",
   "metadata": {},
   "outputs": [
    {
     "name": "stdout",
     "output_type": "stream",
     "text": [
      "              average\n",
      "portfolio_1   59.8550\n",
      "portfolio_2   40.0281\n",
      "portfolio_3   34.8210\n",
      "portfolio_4   50.5867\n",
      "portfolio_5   52.1729\n",
      "portfolio_6   40.5421\n",
      "portfolio_7   60.9848\n",
      "portfolio_8   60.6637\n",
      "portfolio_9   47.9203\n",
      "portfolio_10  42.3757\n"
     ]
    }
   ],
   "source": [
    "#first I should calculate the average return of each portfolio\n",
    "mean_portfolio = pd.DataFrame(portfolio.mean(), columns=['average'])\n",
    "print(mean_portfolio)"
   ]
  },
  {
   "cell_type": "code",
   "execution_count": 4,
   "id": "c55a30f8",
   "metadata": {},
   "outputs": [],
   "source": [
    "#before I started writing the algorithm I defined the following variables\n",
    "temperature = 25000\n",
    "cooling_rate = 0.5\n",
    "iteration = 100\n",
    "#summary of first_portfolio_weights must be 1\n",
    "first_portfolio_weights = np.array([0.01, 0.56, 0.02, 0.12, 0.1, 0.09, 0.05, 0.01, 0.01, 0.03])"
   ]
  },
  {
   "cell_type": "code",
   "execution_count": 15,
   "id": "07564862",
   "metadata": {},
   "outputs": [
    {
     "name": "stdout",
     "output_type": "stream",
     "text": [
      "44.05354\n"
     ]
    }
   ],
   "source": [
    "#averages of portfolios\n",
    "average_df = pd.DataFrame({'average': [59.8550, 40.0281, 34.8210, 50.5867, 52.1729, 40.5421, 60.9848, 60.6637, 47.9203, 42.3757]})\n",
    "\n",
    "#multiplication of weights and averages\n",
    "average_df['weighted_average'] = average_df['average'] * first_portfolio_weights\n",
    "first_sum_weighted_average = sum(average_df['weighted_average'])\n",
    "\n",
    "print(first_sum_weighted_average)"
   ]
  },
  {
   "cell_type": "code",
   "execution_count": 19,
   "id": "619dcaf5",
   "metadata": {},
   "outputs": [],
   "source": [
    "while temperature >= 1:\n",
    "    \n",
    "    #I set random weights of new portfolio weights\n",
    "    new_portfolio_weights = np.random.rand(10)\n",
    "    new_portfolio_weights /= np.sum(new_portfolio_weights)\n",
    "    \n",
    "    average_df['weighted_average'] = average_df['average'] * new_portfolio_weights\n",
    "\n",
    "    #I calculate of new sum of average_df\n",
    "    sum_weighted_average = sum(average_df['weighted_average'])\n",
    "    \n",
    "    #I calculate of acceptance probability\n",
    "    delta = sum_weighted_average - first_sum_weighted_average\n",
    "    acceptance_probability = np.exp(delta / temperature)\n",
    "    \n",
    "    #I determine whether accept the new portfolio\n",
    "    if (random.random() < acceptance_probability).any():\n",
    "        weights = new_portfolio_weights\n",
    "        first_sum_weighted_average = sum_weighted_average\n",
    "    \n",
    "    #reducing temperature\n",
    "    temperature *= 1 - cooling_rate"
   ]
  },
  {
   "cell_type": "code",
   "execution_count": 20,
   "id": "5d3a4031",
   "metadata": {},
   "outputs": [
    {
     "name": "stdout",
     "output_type": "stream",
     "text": [
      "Optimized Portfolio Weights:  [0.09757813 0.07755477 0.0812844  0.0588836  0.02593336 0.13511143\n",
      " 0.13875793 0.12420707 0.13576648 0.12492282]\n",
      "Expected Returns:  44.05354\n"
     ]
    }
   ],
   "source": [
    "print(\"Optimized Portfolio Weights: \", weights)\n",
    "print(\"Expected Returns: \", first_sum_weighted_average)"
   ]
  }
 ],
 "metadata": {
  "kernelspec": {
   "display_name": "Python 3 (ipykernel)",
   "language": "python",
   "name": "python3"
  },
  "language_info": {
   "codemirror_mode": {
    "name": "ipython",
    "version": 3
   },
   "file_extension": ".py",
   "mimetype": "text/x-python",
   "name": "python",
   "nbconvert_exporter": "python",
   "pygments_lexer": "ipython3",
   "version": "3.10.9"
  }
 },
 "nbformat": 4,
 "nbformat_minor": 5
}
